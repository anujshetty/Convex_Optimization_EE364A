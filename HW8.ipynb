{
 "cells": [
  {
   "cell_type": "code",
   "execution_count": 1,
   "metadata": {},
   "outputs": [],
   "source": [
    "import cvxpy as cp\n",
    "import numpy as np\n",
    "import matplotlib.pyplot as plt"
   ]
  },
  {
   "attachments": {},
   "cell_type": "markdown",
   "metadata": {},
   "source": [
    "# 6.28"
   ]
  },
  {
   "cell_type": "code",
   "execution_count": 2,
   "metadata": {},
   "outputs": [],
   "source": [
    "import numpy as np\n",
    "\n",
    "def Pi(y):\n",
    "    \"\"\"Returns the ranking of the argument.\n",
    "    :param y: a 2d array of size N x K or a 1d array of size K, N input vectors/1 vector to generate the rankings\n",
    "    \n",
    "    :return: a 2d numpy array with ith row being the ranking of the ith row of y if y is a 2d array, \n",
    "    and a 1d ranking (numpy array) if y is a 1d array\n",
    "    \"\"\"\n",
    "    y = np.array(y)\n",
    "    if y.ndim == 1:\n",
    "        ranking = np.argsort(np.argsort(y)) + 1\n",
    "    else:\n",
    "        ranking = np.argsort(np.argsort(y, axis = -1), axis = -1) + 1\n",
    "    return ranking\n",
    "\n",
    "# Data generation\n",
    "N = N_test = 500\n",
    "d = 20\n",
    "K = 10\n",
    "\n",
    "np.random.seed(0)\n",
    "\n",
    "# Generate the true theta matrix\n",
    "theta_true = np.random.randn(K,d)\n",
    "theta_true /= np.linalg.norm(theta_true[:])\n",
    "\n",
    "# Sample x_i from standard Gaussian\n",
    "X_test = np.hstack([np.random.randn(N_test,  d-1), np.ones((N_test, 1))])\n",
    "X_train = np.hstack([np.random.randn(N,  d-1), np.ones((N, 1))])\n",
    "\n",
    "# Generate the true features y = theta x and add noise to them\n",
    "Y_train, Y_test = X_train.dot(theta_true.T), X_test.dot(theta_true.T)\n",
    "\n",
    "# Add 15dB of noise to the observed y to generate noisy rankings\n",
    "noise_snr = 15.\n",
    "sigma_noise = 10 ** (-0.05 * noise_snr) / np.sqrt(K)\n",
    "Y_train, Y_test = Y_train + sigma_noise * np.random.randn(N, K), Y_test + sigma_noise * np.random.randn(N_test, K)\n",
    "\n",
    "# Get the rankins of the observed noisy data\n",
    "pi_train, pi_test = Pi(Y_train), Pi(Y_test)"
   ]
  },
  {
   "attachments": {},
   "cell_type": "markdown",
   "metadata": {},
   "source": [
    "Solution"
   ]
  },
  {
   "cell_type": "code",
   "execution_count": 18,
   "metadata": {},
   "outputs": [
    {
     "name": "stdout",
     "output_type": "stream",
     "text": [
      "Average training distance:  1.2410474173532646\n",
      "Average test distance:  1.3108211836569548\n"
     ]
    }
   ],
   "source": [
    "theta = cp.Variable((K, d))\n",
    "obj = cp.Minimize(cp.sum((cp.norm(pi_train - X_train@theta.T, 1, axis = 1))))\n",
    "prob = cp.Problem(obj)\n",
    "prob.solve()\n",
    "theta_hat = theta.value\n",
    "\n",
    "avg_train_dist = np.sum(np.linalg.norm(pi_train - Pi(X_train@theta_hat.T), axis = 1))/(2*N)\n",
    "avg_test_dist = np.sum(np.linalg.norm(pi_test - Pi(X_test@theta_hat.T), axis = 1))/(2*N)\n",
    "print(\"Average training distance: \", avg_train_dist)\n",
    "print(\"Average test distance: \", avg_test_dist)"
   ]
  },
  {
   "cell_type": "code",
   "execution_count": null,
   "metadata": {},
   "outputs": [],
   "source": [
    "# Solve the problem\n",
    "c = cp.Variable(n)\n",
    "y_unknown = cp.Variable(K-M)\n",
    "obj = cp.Minimize(cp.norm(X.T@c - cp.hstack((y,y_unknown)),2))\n",
    "constraints = [ y_unknown <= D]\n",
    "prob = cp.Problem(obj, constraints)\n",
    "prob.solve()\n",
    "c_opt = c.value\n",
    "print(f'Optimal c using method from a) is {c_opt}')\n",
    "\n",
    "obj = cp.Minimize(cp.norm((X.T@c)[:M] - y,2))\n",
    "prob = cp.Problem(obj, [])\n",
    "prob.solve()\n",
    "c_ls = c.value\n",
    "print(f'Least squares c is {c_ls}')\n",
    "\n",
    "c_true_norm = np.linalg.norm(c_true,2)\n",
    "print(f'Relative error in c_opt is {np.linalg.norm(c_opt-c_true,2)/c_true_norm}')\n",
    "print(f'Relative error in c_ls is {np.linalg.norm(c_ls-c_true,2)/c_true_norm}')\n"
   ]
  },
  {
   "attachments": {},
   "cell_type": "markdown",
   "metadata": {},
   "source": [
    "# 7.16"
   ]
  },
  {
   "cell_type": "code",
   "execution_count": 70,
   "metadata": {},
   "outputs": [],
   "source": [
    "n = 4\n",
    "N = 171\n",
    "\n",
    "Ex = np.array([  0.5266, 16.6962, 2.7494, 2.5215,]).T\n",
    "y = np.matrix([6,          6,         10,         10,          6,         15,         12,         16,         14,         10,          5,          8,         11,         17,          6,         18,         11,         11,         11,         20,         10,         16,         11,         11,          9,          6,          8,         16,          5,         10,         10,         12,          6,         15,         10,         10,          8,         14,         10,         10,         14,         18,         16,          9,         15,         15,          9,          1,          1,          1,         12,         13,          1,         11,          1,         11,         10,          1,         14,         13,         10,         15,          1,          7,          7,         16,          1,         14,         16,         10,          9,          9,         11,         15,         13,          9,          8,         18,         10,         10,          7,          8,         10,          8,          6,          1,         17,         14,          7,          9,         12,         11,          6,         13,         12,         11,          1,         12,          1,         18,         13,          8,         15,          8,         10,          8,          8,         12,          8,         14,          1,          9,          1,          1,         14,         11,         14,         10,          9,          9,          8,         12,         10,         11,         12,         14,         11,         13,         11,         12,         10,          1,         13,         11,         13,         11,          1,         10,         11,         11,         11,          8,         14,         11,          1,         10,          9,          8,          8,         10,         16,         13,         12,         15,         12,          1,         11,         12,         11,          5,         10,         10,          7,          1,          1,          8,          1,          9,         16,          7,          9,]).T\n",
    "x = np.matrix([[1,    18,     4,     4],     [1,    17,     1,     1],     [1,    15,     1,     1],     [1,    16,     3,     3],     [1,    17,     4,     4],     [0,    15,     3,     4],     [1,    15,     2,     1],     [0,    15,     2,     2],     [1,    16,     4,     4],     [1,    16,     3,     3],     [0,    17,     3,     2],     [1,    16,     2,     2],     [0,    15,     2,     2],     [0,    15,     4,     4],     [1,    15,     2,     3],     [0,    15,     4,     3],     [1,    15,     3,     4],     [0,    15,     2,     2],     [1,    16,     3,     3],     [0,    16,     4,     3],     [1,    16,     2,     1],     [1,    16,     4,     2],     [1,    16,     4,     4],     [1,    16,     1,     1],     [1,    16,     4,     3],     [1,    16,     3,     1],     [1,    15,     2,     2],     [1,    15,     3,     1],     [1,    15,     1,     1],     [0,    15,     4,     0],     [0,    17,     2,     1],     [0,    15,     2,     3],     [1,    15,     3,     2],     [0,    15,     2,     2],     [1,    15,     1,     1],     [0,    16,     2,     2],     [1,    16,     3,     3],     [0,    15,     2,     2],     [1,    15,     1,     1],     [1,    16,     2,     1],     [1,    16,     4,     4],     [0,    16,     3,     3],     [1,    16,     4,     4],     [0,    15,     2,     1],     [1,    15,     1,     2],     [0,    15,     2,     2],     [1,    19,     0,     1],     [0,    18,     2,     2],     [1,    15,     1,     1],     [1,    15,     4,     4],     [0,    16,     1,     1],     [1,    16,     1,     1],     [0,    17,     2,     1],     [1,    15,     1,     1],     [1,    15,     3,     2],     [1,    15,     1,     2],     [0,    15,     2,     1],     [0,    18,     1,     1],     [0,    16,     2,     1],     [0,    17,     1,     2],     [1,    18,     1,     1],     [0,    16,     2,     2],     [0,    17,     2,     1],     [0,    15,     3,     2],     [0,    17,     1,     1],     [1,    16,     4,     2],     [1,    16,     2,     2],     [1,    16,     4,     4],     [0,    16,     1,     0],     [0,    17,     4,     4],     [1,    16,     3,     3],     [0,    17,     4,     3],     [1,    16,     2,     2],     [0,    16,     2,     1],     [1,    16,     2,     3],     [1,    17,     1,     1],     [0,    17,     1,     2],     [1,    17,     4,     4],     [1,    17,     1,     1],     [1,    16,     1,     1],     [1,    17,     4,     3],     [0,    18,     2,     2],     [1,    17,     4,     4],     [0,    18,     3,     3],     [1,    17,     2,     1],     [1,    17,     1,     1],     [1,    16,     2,     3],     [1,    16,     4,     4],     [1,    18,     3,     1],     [0,    18,     2,     1],     [1,    17,     2,     1],     [0,    17,     2,     2],     [0,    16,     1,     1],     [0,    17,     2,     2],     [1,    16,     2,     1],     [1,    17,     2,     1],     [0,    18,     2,     2],     [0,    17,     4,     3],     [1,    18,     2,     1],     [0,    16,     2,     1],     [0,    17,     2,     3],     [0,    22,     3,     1],     [0,    16,     0,     2],     [0,    18,     3,     2],     [0,    16,     3,     3],     [0,    18,     2,     1],     [0,    16,     2,     1],     [0,    17,     2,     1],     [0,    17,     1,     1],     [0,    18,     2,     1],     [1,    17,     2,     2],     [1,    17,     3,     3],     [1,    18,     2,     2],     [1,    18,     2,     1],     [1,    18,     2,     3],     [1,    18,     1,     1],     [0,    17,     1,     2],     [1,    17,     2,     4],     [1,    18,     3,     2],     [0,    18,     4,     4],     [0,    17,     4,     1],     [1,    18,     1,     1],     [1,    18,     1,     1],     [0,    17,     1,     1],     [1,    17,     1,     1],     [0,    18,     2,     1],     [0,    18,     4,     2],     [1,    18,     2,     1],     [0,    17,     3,     3],     [1,    18,     2,     4],     [1,    19,     1,     1],     [1,    19,     1,     2],     [1,    19,     2,     1],     [0,    19,     1,     2],     [1,    19,     1,     1],     [1,    19,     2,     3],     [1,    18,     2,     1],     [1,    17,     3,     4],     [1,    18,     4,     4],     [1,    17,     2,     2],     [0,    18,     4,     4],     [0,    18,     2,     2],     [1,    17,     2,     4],     [1,    19,     2,     1],     [1,    17,     2,     2],     [1,    18,     2,     3],     [0,    18,     4,     3],     [0,    19,     1,     1],     [0,    19,     1,     1],     [0,    18,     1,     1],     [1,    18,     1,     1],     [1,    18,     1,     4],     [0,    18,     1,     1],     [1,    17,     4,     4],     [1,    17,     1,     2],     [1,    17,     1,     1],     [1,    18,     4,     4],     [0,    18,     1,     2],     [1,    17,     2,     2],     [1,    17,     1,     2],     [1,    18,     1,     1],     [1,    18,     4,     4],     [0,    18,     2,     1],     [0,    19,     1,     1],     [1,    19,     2,     3],     [1,    18,     3,     1],     [1,    18,     1,     1],     [0,    20,     2,     2],     [0,    17,     3,     1],     [0,    21,     1,     1],     [0,    19,     1,     1],])\n",
    "p_true = np.array([0.096203,      0.000000,      0.000000,      0.002532,      0.017722,      0.037975,      0.022785,      0.081013,      0.070886,      0.141772,      0.118987,      0.078481,      0.078481,      0.068354,      0.083544,      0.040506,      0.015190,      0.030380,      0.012658,      0.002532,]).T\n",
    "p_empirical = np.array([0.122807,      0.000000,      0.000000,      0.000000,      0.017544,      0.046784,      0.035088,      0.093567,      0.076023,      0.146199,      0.134503,      0.076023,      0.052632,      0.064327,      0.046784,      0.046784,      0.011696,      0.023392,      0.000000,      0.005848,]).T"
   ]
  },
  {
   "cell_type": "code",
   "execution_count": 73,
   "metadata": {},
   "outputs": [
    {
     "name": "stderr",
     "output_type": "stream",
     "text": [
      "c:\\Users\\anujs\\Anaconda3\\lib\\site-packages\\cvxpy\\expressions\\expression.py:593: UserWarning: \n",
      "This use of ``*`` has resulted in matrix multiplication.\n",
      "Using ``*`` for matrix multiplication has been deprecated since CVXPY 1.1.\n",
      "    Use ``*`` for matrix-scalar and vector-scalar multiplication.\n",
      "    Use ``@`` for matrix-matrix and matrix-vector multiplication.\n",
      "    Use ``multiply`` for elementwise multiplication.\n",
      "This code path has been hit 84 times so far.\n",
      "\n",
      "  warnings.warn(msg, UserWarning)\n"
     ]
    },
    {
     "data": {
      "text/plain": [
       "<matplotlib.legend.Legend at 0x2a02012b370>"
      ]
     },
     "execution_count": 73,
     "metadata": {},
     "output_type": "execute_result"
    },
    {
     "data": {
      "image/png": "[encoded data removed]",
      "text/plain": [
       "<Figure size 432x288 with 1 Axes>"
      ]
     },
     "metadata": {
      "needs_background": "light"
     },
     "output_type": "display_data"
    }
   ],
   "source": [
    "pi = cp.Variable(N)\n",
    "# reshape Ex to be a column vector\n",
    "#Ex = np.asarray(Ex).ravel()\n",
    "constraints = [pi >= 0, cp.sum(pi) == 1, \n",
    "               pi * x == Ex]\n",
    "# max entropy of pi\n",
    "objective = cp.Maximize(cp.sum(cp.entr(pi)))\n",
    "prob = cp.Problem(objective, constraints)\n",
    "prob.solve()\n",
    "pi_star = pi.value\n",
    "#print(\"pi_star = \", pi_star)\n",
    "\n",
    "# plot true and empirical cumulative distributions\n",
    "\n",
    "plt.plot(np.cumsum(p_empirical), label='empirical')\n",
    "plt.plot(np.cumsum(p_true), label='true')\n",
    "plt.plot(np.cumsum(pi_star), label='max entropy')\n",
    "plt.legend()\n",
    "#np.cumsum(p_empirical)\n"
   ]
  },
  {
   "cell_type": "markdown",
   "metadata": {},
   "source": [
    "# 21.22"
   ]
  },
  {
   "cell_type": "code",
   "execution_count": null,
   "metadata": {},
   "outputs": [
    {
     "name": "stdout",
     "output_type": "stream",
     "text": [
      "Optimal t is [-1.24999317 -1.24999702 -1.25000108 -1.25000874]\n",
      "Optimal B is [[ 2.00000000e+01 -4.30310026e-17 -3.35490570e-17 -3.12916996e-17]\n",
      " [ 9.99999495e-01  4.00000050e+00  2.19849571e-18  4.45585275e-18]\n",
      " [ 5.99999814e+00 -1.67684605e-17  4.00000186e+00 -5.02912678e-18]\n",
      " [ 4.24999551e+00  7.24999652e+00  2.24999922e+00  1.25000874e+00]]\n",
      "Optimal B_t is [[ 1.00000000e+01 -3.87694037e-17 -4.50886987e-17 -7.22819015e-17]\n",
      " [ 7.33333383e+00  1.76666662e+01 -3.99360483e-17 -6.71292508e-17]\n",
      " [-4.33333148e+00 -1.14810476e-17  9.33333148e+00 -4.49935451e-17]\n",
      " [-9.24999552e+00  1.08333682e+00  4.41666744e+00  1.87499913e+01]]\n",
      "Optimal cost is 262.49999993324\n",
      "With t=0, problem is infeasible\n"
     ]
    }
   ],
   "source": [
    "p = np.array([4,2,2,1])\n",
    "d = np.array([20, 5, 10, 15])\n",
    "s = np.array([30, 10, 5, 0])\n",
    "d_t = np.array([10, 25, 5, 15])\n",
    "s_t = np.array([5, 20, 15, 20])\n",
    "k=0.5\n",
    "\n",
    "B = cp.Variable((4,4))\n",
    "B_t = cp.Variable((4,4))\n",
    "t = cp.Variable(4)\n",
    "constraints = [B[0,1] == 0, B[0,2] == 0, B[0,3] == 0, B[1,2] == 0, B[1,3] == 0, B[2,1] == 0, B[2,3] == 0,\n",
    "               B_t[0,1] == 0, B_t[0,2] == 0, B_t[0,3] == 0, B_t[1,2] == 0, B_t[1,3] == 0, B_t[2,1] == 0, B_t[2,3] == 0,\n",
    "               cp.sum(B, axis=0) <= s-t, cp.sum(B_t, axis=0) <= s_t+t, \n",
    "               cp.sum(B, axis=1) >= d, cp.sum(B_t, axis=1) >= d_t,\n",
    "               ]\n",
    "obj = cp.Minimize(cp.sum((B+B_t) @ p) + k*cp.norm1(t))\n",
    "prob = cp.Problem(obj, constraints)\n",
    "prob.solve()\n",
    "print(f'Optimal t is {t.value}')\n",
    "print(f'Optimal B is {B.value}')\n",
    "print(f'Optimal B_t is {B_t.value}')\n",
    "print(f'Optimal cost is {prob.value}')\n",
    "\n",
    "constraints = constraints + [ t ==0]\n",
    "prob = cp.Problem(obj, constraints)\n",
    "prob.solve()\n",
    "print(f'With t=0, problem is {prob.status}')\n"
   ]
  }
 ],
 "metadata": {
  "kernelspec": {
   "display_name": "base",
   "language": "python",
   "name": "python3"
  },
  "language_info": {
   "codemirror_mode": {
    "name": "ipython",
    "version": 3
   },
   "file_extension": ".py",
   "mimetype": "text/x-python",
   "name": "python",
   "nbconvert_exporter": "python",
   "pygments_lexer": "ipython3",
   "version": "3.8.8"
  },
  "orig_nbformat": 4
 },
 "nbformat": 4,
 "nbformat_minor": 2
}
